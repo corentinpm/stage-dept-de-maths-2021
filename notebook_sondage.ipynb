{
 "cells": [
  {
   "cell_type": "markdown",
   "metadata": {},
   "source": [
    "# Programme pour nettoyer le sondage"
   ]
  },
  {
   "cell_type": "markdown",
   "metadata": {},
   "source": [
    "1. Importer le sondage (2ème case)\n",
    "2. Renommer les colonnes (3ème case) (manuellement)\n",
    "3. Enlever les lignes vides et nettoyer (4ème et 5ème case)\n",
    "4. Récupérer la version nettoyée du sondage"
   ]
  },
  {
   "cell_type": "code",
   "execution_count": null,
   "metadata": {},
   "outputs": [],
   "source": [
    "#packages nécessaire\n",
    "import pandas as pd"
   ]
  },
  {
   "cell_type": "code",
   "execution_count": 22,
   "metadata": {},
   "outputs": [],
   "source": [
    "#ouvrir le sondage, chemin à modifier !!!!\n",
    "sondage_raw = pd.read_csv(\"chemin/sondage2021.csv\", sep=\",\")"
   ]
  },
  {
   "cell_type": "code",
   "execution_count": 23,
   "metadata": {},
   "outputs": [],
   "source": [
    "sondage=sondage_raw.copy()\n",
    "###Changement des noms des colonnes, à modifier si certaines questions ont changées\n",
    "sondage.columns = ['formation','ens_interessant','ens_utile','ens_difficile','ens_coherent','ens_adequation','equ_clair','equ_repond','equ_syllabus','equ_document','equ_sujet','trav_necessaire','trav_fourni','tp','info_prerequis','info_formation','info_poursuite','info_stage','outil_document','outil_information','materiel','secretariat','ameliore','satisfaisant']\n",
    "#sondage"
   ]
  },
  {
   "cell_type": "code",
   "execution_count": 24,
   "metadata": {},
   "outputs": [],
   "source": [
    "sondage=sondage.dropna(subset=['formation'])\n",
    "###Retirer les lignes où la formation n'est pas spécifiée (donc les lignes vides)"
   ]
  },
  {
   "cell_type": "code",
   "execution_count": 33,
   "metadata": {},
   "outputs": [],
   "source": [
    "###Retirer les valeurs étranges, dans le cas du sondage 2020/2021 : travail hebdo\n",
    "for index, row in sondage.iterrows():\n",
    "    if row['trav_necessaire'] <0 or row['trav_necessaire']>100 :\n",
    "        sondage['trav_necessaire'] = sondage['trav_necessaire'].replace([row['trav_necessaire']],float('nan'))\n",
    "    if row['trav_fourni']<0 or row['trav_fourni']>100:\n",
    "        sondage['trav_fourni'] = sondage['trav_fourni'].replace([row['trav_fourni']],float('nan'))"
   ]
  },
  {
   "cell_type": "code",
   "execution_count": 36,
   "metadata": {},
   "outputs": [],
   "source": [
    "#Chemin à modifier !!!!\n",
    "sondage.to_csv('chemin/sondage_cleaned.csv', index=False)"
   ]
  }
 ],
 "metadata": {
  "kernelspec": {
   "display_name": "Python 3",
   "language": "python",
   "name": "python3"
  },
  "language_info": {
   "codemirror_mode": {
    "name": "ipython",
    "version": 3
   },
   "file_extension": ".py",
   "mimetype": "text/x-python",
   "name": "python",
   "nbconvert_exporter": "python",
   "pygments_lexer": "ipython3",
   "version": "3.8.3"
  }
 },
 "nbformat": 4,
 "nbformat_minor": 4
}
